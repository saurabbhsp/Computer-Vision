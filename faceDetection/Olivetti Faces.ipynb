{
 "cells": [
  {
   "cell_type": "markdown",
   "metadata": {},
   "source": [
    "# Data preprocessing"
   ]
  },
  {
   "cell_type": "code",
   "execution_count": 1,
   "metadata": {},
   "outputs": [],
   "source": [
    "\"\"\"Load the data\"\"\"\n",
    "from sklearn.datasets import fetch_olivetti_faces\n",
    "from sklearn.model_selection import train_test_split\n",
    "from skimage.io import imshow\n",
    "from sklearn.preprocessing import OneHotEncoder\n",
    "\n",
    "data = fetch_olivetti_faces()"
   ]
  },
  {
   "cell_type": "code",
   "execution_count": 2,
   "metadata": {},
   "outputs": [],
   "source": [
    "targets = data.target\n",
    "features = data.images\n",
    "encoder = OneHotEncoder()\n",
    "targets = encoder.fit_transform(targets.reshape(-1, 1)).todense()\n",
    "xTrain, xTest, yTrain, yTest = train_test_split(features, targets, test_size=0.1)"
   ]
  },
  {
   "cell_type": "code",
   "execution_count": 3,
   "metadata": {},
   "outputs": [
    {
     "name": "stdout",
     "output_type": "stream",
     "text": [
      "(360, 64, 64)\n",
      "(360, 40)\n"
     ]
    }
   ],
   "source": [
    "\"\"\"Train set\"\"\"\n",
    "print(xTrain.shape)\n",
    "print(yTrain.shape)"
   ]
  },
  {
   "cell_type": "code",
   "execution_count": 4,
   "metadata": {},
   "outputs": [
    {
     "name": "stdout",
     "output_type": "stream",
     "text": [
      "(40, 64, 64)\n",
      "(40, 40)\n"
     ]
    }
   ],
   "source": [
    "\"\"\"Test set\"\"\"\n",
    "print(xTest.shape)\n",
    "print(yTest.shape)"
   ]
  },
  {
   "cell_type": "code",
   "execution_count": 5,
   "metadata": {},
   "outputs": [
    {
     "name": "stderr",
     "output_type": "stream",
     "text": [
      "/usr/local/lib/python3.5/dist-packages/skimage/io/_plugins/matplotlib_plugin.py:51: FutureWarning: Conversion of the second argument of issubdtype from `float` to `np.floating` is deprecated. In future, it will be treated as `np.float64 == np.dtype(float).type`.\n",
      "  out_of_range_float = (np.issubdtype(image.dtype, np.float) and\n",
      "/usr/local/lib/python3.5/dist-packages/matplotlib/axes/_base.py:1400: MatplotlibDeprecationWarning: The 'box-forced' keyword argument is deprecated since 2.2.\n",
      "  \" since 2.2.\", cbook.mplDeprecation)\n"
     ]
    },
    {
     "data": {
      "text/plain": [
       "<matplotlib.image.AxesImage at 0x7f2b5d029400>"
      ]
     },
     "execution_count": 5,
     "metadata": {},
     "output_type": "execute_result"
    },
    {
     "data": {
      "image/png": "[encoded data removed]",
      "text/plain": [
       "<Figure size 432x288 with 1 Axes>"
      ]
     },
     "metadata": {},
     "output_type": "display_data"
    }
   ],
   "source": [
    "imshow(xTrain[0])"
   ]
  },
  {
   "cell_type": "code",
   "execution_count": 6,
   "metadata": {},
   "outputs": [
    {
     "data": {
      "text/plain": [
       "(360, 4096)"
      ]
     },
     "execution_count": 6,
     "metadata": {},
     "output_type": "execute_result"
    }
   ],
   "source": [
    "xTrainFlattened = xTrain.reshape((xTrain.shape[0], -1))\n",
    "xTrainFlattened.shape"
   ]
  },
  {
   "cell_type": "code",
   "execution_count": 7,
   "metadata": {},
   "outputs": [
    {
     "data": {
      "text/plain": [
       "(40, 4096)"
      ]
     },
     "execution_count": 7,
     "metadata": {},
     "output_type": "execute_result"
    }
   ],
   "source": [
    "xTestFlattened = xTest.reshape((xTest.shape[0], -1))\n",
    "xTestFlattened.shape"
   ]
  },
  {
   "cell_type": "markdown",
   "metadata": {},
   "source": [
    "# Define model"
   ]
  },
  {
   "cell_type": "code",
   "execution_count": 8,
   "metadata": {},
   "outputs": [
    {
     "name": "stderr",
     "output_type": "stream",
     "text": [
      "/usr/local/lib/python3.5/dist-packages/h5py/__init__.py:36: FutureWarning: Conversion of the second argument of issubdtype from `float` to `np.floating` is deprecated. In future, it will be treated as `np.float64 == np.dtype(float).type`.\n",
      "  from ._conv import register_converters as _register_converters\n"
     ]
    }
   ],
   "source": [
    "import tensorflow as tf\n",
    "\n",
    "init = tf.global_variables_initializer()\n",
    "\n",
    "\n",
    "def logisticRegressionNetwork(inputDimension, outputDimension):\n",
    "    X = tf.placeholder(\"float\", [None, inputDimension])\n",
    "    Y = tf.placeholder(\"float\", [None, outputDimension])\n",
    "    \"\"\"Build Graph\"\"\"\n",
    "    outputLayer = tf.nn.softmax(tf.matmul(X, tf.Variable(tf.zeros([inputDimension, \n",
    "                                        outputDimension]))) + tf.Variable(tf.zeros([outputDimension])))\n",
    "    return outputLayer, X, Y"
   ]
  },
  {
   "cell_type": "code",
   "execution_count": 9,
   "metadata": {},
   "outputs": [],
   "source": [
    "def trainModel(session, network, \n",
    "               xContainer, yContainer, xTrain, yTrain, xValidation, yValidation, \n",
    "               learningRate, epochs):\n",
    "    \n",
    "    trainSetLoss = []\n",
    "    validationSetAcc = []\n",
    "    trainSetAcc = []\n",
    "    \n",
    "    lossFunction = tf.reduce_mean(-tf.reduce_sum(yContainer * tf.log(network), reduction_indices=1))\n",
    "    \n",
    "    optimizer = tf.train.GradientDescentOptimizer(learning_rate = learningRate)\n",
    "    trainOperation = optimizer.minimize(lossFunction)\n",
    "    \n",
    "    prediction = tf.equal(tf.argmax(network, 1), tf.argmax(yContainer, 1))\n",
    "    accuracy = tf.reduce_mean(tf.cast(prediction, tf.float32))\n",
    "    session.run(tf.global_variables_initializer())\n",
    "    \n",
    "    \n",
    "    # Create a summary to monitor accuracy tensor\n",
    "    tf.summary.scalar(\"Training_Accuracy\", accuracy)\n",
    "    tf.summary.scalar(\"Training_Loss\", lossFunction)\n",
    "    tf.summary.histogram(\"Acc_Hist\", accuracy)\n",
    "    tf.summary.histogram(\"Loss_Hist\", lossFunction)\n",
    "    merged_summary_op = tf.summary.merge_all()\n",
    "    \n",
    "    summary_writer = tf.summary.FileWriter(\"tensorboard/logs\", graph=tf.get_default_graph())\n",
    "    \n",
    "    for i in range(0, epochs):\n",
    "        _, loss, acc, summary = session.run([trainOperation, lossFunction, accuracy, merged_summary_op], feed_dict={xContainer: xTrain,\n",
    "                                                                 yContainer: yTrain})\n",
    "        summary_writer.add_summary(summary, i)\n",
    "        if i%50 ==0:\n",
    "            print(\"Training accuracy \"+str(acc))\n",
    "            \n",
    "        trainSetLoss.append(loss)\n",
    "        trainSetAcc.append(acc)\n",
    "        loss, acc = session.run([lossFunction, accuracy], feed_dict={xContainer: xValidation,\n",
    "                                                                 yContainer: yValidation})\n",
    "        if i%50 ==0:\n",
    "            print(\"Test accuracy \"+str(acc))\n",
    "            \n",
    "        validationSetAcc.append(acc)\n",
    "    return trainSetLoss, trainSetAcc, validationSetAcc"
   ]
  },
  {
   "cell_type": "code",
   "execution_count": 10,
   "metadata": {
    "scrolled": false
   },
   "outputs": [
    {
     "name": "stdout",
     "output_type": "stream",
     "text": [
      "Training accuracy 0.022222223\n",
      "Test accuracy 0.0\n",
      "Training accuracy 0.65833336\n",
      "Test accuracy 0.3\n",
      "Training accuracy 0.90555555\n",
      "Test accuracy 0.75\n",
      "Training accuracy 0.975\n",
      "Test accuracy 0.875\n",
      "Training accuracy 0.99444443\n",
      "Test accuracy 0.95\n",
      "Training accuracy 1.0\n",
      "Test accuracy 0.95\n"
     ]
    }
   ],
   "source": [
    "network, X, Y = logisticRegressionNetwork(4096, 40)\n",
    "session = tf.Session()\n",
    "trainSetLoss, trainSetAcc, validationSetAcc = trainModel(session, network, X, Y,\n",
    "                                          xTrainFlattened, yTrain, xTestFlattened, yTest, 0.07, 300)"
   ]
  }
 ],
 "metadata": {
  "kernelspec": {
   "display_name": "Python 3",
   "language": "python",
   "name": "python3"
  },
  "language_info": {
   "codemirror_mode": {
    "name": "ipython",
    "version": 3
   },
   "file_extension": ".py",
   "mimetype": "text/x-python",
   "name": "python",
   "nbconvert_exporter": "python",
   "pygments_lexer": "ipython3",
   "version": "3.5.2"
  }
 },
 "nbformat": 4,
 "nbformat_minor": 2
}
